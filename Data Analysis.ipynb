{
 "cells": [
  {
   "cell_type": "markdown",
   "metadata": {},
   "source": [
    "=================================================\n",
    "\n",
    "Milestone 1\n",
    "\n",
    "Nama  : Pujo Prasetyo Aji\n",
    "\n",
    "Batch : RMT-043\n",
    "\n",
    "Project ini berisi rangkaian proses analisis data beserta visualisasi data penjualan mobil.\n",
    "Proses analisis data dilakukan untuk mengetahui preferensi konsumen terhadap penjualan mobil sebagai bahan pertimbangan strategi bisnis perusahaan.\n",
    "\n",
    "\n",
    "=================================================\n"
   ]
  },
  {
   "cell_type": "markdown",
   "metadata": {},
   "source": [
    "# Interactive Dashboard Tableau"
   ]
  },
  {
   "cell_type": "markdown",
   "metadata": {},
   "source": [
    "Main Dashboard:\n",
    "https://public.tableau.com/app/profile/pujo.prasetyo.aji/viz/Book1_17454778947720/AnalisisPenjualanMobil?publish=yes\n",
    "\n",
    "Dashboard Statistik Deskriptif\n",
    "https://public.tableau.com/app/profile/pujo.prasetyo.aji/viz/Book1_17454778947720/Statistik?publish=yes\n",
    "\n",
    "Dashboard Statistik Inferensial\n",
    "https://public.tableau.com/app/profile/pujo.prasetyo.aji/viz/Book1_17454778947720/Inferensial?publish=yes"
   ]
  },
  {
   "cell_type": "markdown",
   "metadata": {},
   "source": [
    "# I. Problem Statement and Dataset Description"
   ]
  },
  {
   "cell_type": "markdown",
   "metadata": {},
   "source": [
    " 1a. Topik permasalahan : Preferensi konsumen terhadap jenis mobil"
   ]
  },
  {
   "cell_type": "markdown",
   "metadata": {},
   "source": [
    " 1b. Latar belakang\n",
    " \n",
    " Seorang klien yang merupakan pemilik showrom mobil menghubungi saya untuk meminta pendapat mengenai penjualan mobil di perusahaannya. Jumlah transaksi yang dilakukan oleh perusahaannya mengalami stagnansi dan cenderung mengalami penurunan. Dia merasa perlu melakukan strategi baru untuk meningkatkan jumlah penjualan.Sebagai seorang data analis saya mencari data penjualan mobil dalam beberapa tahun terakhir, kemudian melakukan analisis statistik pada data tersebut dan menggambarkan visualisasi data agar mudah dipahami oleh klien.\n",
    "\n",
    " User/Client : Owner Showrom Mobil\n"
   ]
  },
  {
   "cell_type": "markdown",
   "metadata": {},
   "source": [
    " 1c. Sumber dataset\n",
    "\n",
    "Dataset yang digunakan merupakan data penjualan mobil berasal dari web kaggle dengan judul \"Vehicle Sales Data\".\n",
    "\n",
    "url = \"https://www.kaggle.com/datasets/syedanwarafridi/vehicle-sales-data\""
   ]
  },
  {
   "cell_type": "markdown",
   "metadata": {},
   "source": [
    " 1d. Problem Statement\n",
    "\n",
    " Definisi permasalahan lebih jelas dapat dilihat pada matrix SMART berikut:\n",
    "\n",
    "- S = Meningkatkan jumlah penjualan mobil dan meningkatkan jumlah pelanggan perusahaan (leads)\n",
    "- M = Meningkatkan total pendapatan perusahaan (Net Profit Value) sebesar 20% dan customer leads sebesar 5%\n",
    "- A = Memfokuskan penjualan mobil yang memiliki jumlah peminat yang tinggi untuk meningkatkan profit, memberikan promo service untuk setiap transaksi mobil\n",
    "- R = Pertumbuhan jumlah pendapatan dan basis pelanggan dapat mendukung pertumbuhan perusahaan untuk melakukan ekspansi pasar otomotif dengan menjual produk-produk unggulan dan transaksi keuangan yang stabil.\n",
    "- T = Dicapai dalam periode Quartal 3 (Juli – September 2025).\n",
    "\n",
    "> \"Meningkatkan jumlah pendapatan perusahaan sebesar 20% dan costomer leads sebesar 5% dengan cara memfokuskan penjualan terhadap mobil yang paling diminati dan aftersales yang menarik dalam kurun waktu 3 bulan pada Quartal 3.\""
   ]
  },
  {
   "cell_type": "markdown",
   "metadata": {},
   "source": [
    "1e. Penjabaran Masalah\n",
    "\n",
    "Berdasarkan problem statement yang telah didefinisikan, statement tersebut dijabarkan kembali menjadi beberapa pertanyaan dengan metode 5W+1H:\n",
    "\n",
    "+ What : Apa saja jenis mobil yang paling diminati konsumen? (1)\n",
    "+ Who : Siapa produsen / manufacturer mobil yang paling banyak diminati? (2)\n",
    "+ Where : Kota mana yang memiliki jumlah penjualan mobil paling banyak? (3)\n",
    "+ When : Apakah ada perbedaan jumlah transaksi mobil pada bulan-bulan tertentu? (4)\n",
    "+ How : Bagaimana kondisi mobil yang banyak diminati oleh konsumen? (5)\n",
    "+ How : Bagaimana kondisi penjualan mobil saat ini? (6)\n",
    "+ Why : Apakah ada pengaruh antara jarak tempuh (odometer) dengan kondisi mobil? (7)\n",
    "+ Why : Apakah ada hubungan antara kondisi mobil dengan harga penjualan? (8)"
   ]
  },
  {
   "cell_type": "markdown",
   "metadata": {},
   "source": [
    "# II. Data Loading"
   ]
  },
  {
   "cell_type": "code",
   "execution_count": 1,
   "metadata": {},
   "outputs": [],
   "source": [
    "#Import library yang dibutuhkan\n",
    "import pandas as pd\n",
    "import numpy as np\n",
    "from scipy import stats\n",
    "import matplotlib.pyplot as plt\n",
    "import seaborn as sns"
   ]
  },
  {
   "cell_type": "code",
   "execution_count": 2,
   "metadata": {},
   "outputs": [
    {
     "data": {
      "text/html": [
       "<div>\n",
       "<style scoped>\n",
       "    .dataframe tbody tr th:only-of-type {\n",
       "        vertical-align: middle;\n",
       "    }\n",
       "\n",
       "    .dataframe tbody tr th {\n",
       "        vertical-align: top;\n",
       "    }\n",
       "\n",
       "    .dataframe thead th {\n",
       "        text-align: right;\n",
       "    }\n",
       "</style>\n",
       "<table border=\"1\" class=\"dataframe\">\n",
       "  <thead>\n",
       "    <tr style=\"text-align: right;\">\n",
       "      <th></th>\n",
       "      <th>year</th>\n",
       "      <th>make</th>\n",
       "      <th>model</th>\n",
       "      <th>trim</th>\n",
       "      <th>body</th>\n",
       "      <th>transmission</th>\n",
       "      <th>vin</th>\n",
       "      <th>state</th>\n",
       "      <th>condition</th>\n",
       "      <th>odometer</th>\n",
       "      <th>color</th>\n",
       "      <th>interior</th>\n",
       "      <th>seller</th>\n",
       "      <th>mmr</th>\n",
       "      <th>sellingprice</th>\n",
       "      <th>saledate</th>\n",
       "    </tr>\n",
       "  </thead>\n",
       "  <tbody>\n",
       "    <tr>\n",
       "      <th>0</th>\n",
       "      <td>2015</td>\n",
       "      <td>Kia</td>\n",
       "      <td>Sorento</td>\n",
       "      <td>LX</td>\n",
       "      <td>SUV</td>\n",
       "      <td>automatic</td>\n",
       "      <td>5xyktca69fg566472</td>\n",
       "      <td>ca</td>\n",
       "      <td>5.0</td>\n",
       "      <td>16639.0</td>\n",
       "      <td>white</td>\n",
       "      <td>black</td>\n",
       "      <td>kia motors america  inc</td>\n",
       "      <td>20500.0</td>\n",
       "      <td>21500.0</td>\n",
       "      <td>Tue Dec 16 2014 12:30:00 GMT-0800 (PST)</td>\n",
       "    </tr>\n",
       "    <tr>\n",
       "      <th>1</th>\n",
       "      <td>2015</td>\n",
       "      <td>Kia</td>\n",
       "      <td>Sorento</td>\n",
       "      <td>LX</td>\n",
       "      <td>SUV</td>\n",
       "      <td>automatic</td>\n",
       "      <td>5xyktca69fg561319</td>\n",
       "      <td>ca</td>\n",
       "      <td>5.0</td>\n",
       "      <td>9393.0</td>\n",
       "      <td>white</td>\n",
       "      <td>beige</td>\n",
       "      <td>kia motors america  inc</td>\n",
       "      <td>20800.0</td>\n",
       "      <td>21500.0</td>\n",
       "      <td>Tue Dec 16 2014 12:30:00 GMT-0800 (PST)</td>\n",
       "    </tr>\n",
       "    <tr>\n",
       "      <th>2</th>\n",
       "      <td>2014</td>\n",
       "      <td>BMW</td>\n",
       "      <td>3 Series</td>\n",
       "      <td>328i SULEV</td>\n",
       "      <td>Sedan</td>\n",
       "      <td>automatic</td>\n",
       "      <td>wba3c1c51ek116351</td>\n",
       "      <td>ca</td>\n",
       "      <td>45.0</td>\n",
       "      <td>1331.0</td>\n",
       "      <td>gray</td>\n",
       "      <td>black</td>\n",
       "      <td>financial services remarketing (lease)</td>\n",
       "      <td>31900.0</td>\n",
       "      <td>30000.0</td>\n",
       "      <td>Thu Jan 15 2015 04:30:00 GMT-0800 (PST)</td>\n",
       "    </tr>\n",
       "    <tr>\n",
       "      <th>3</th>\n",
       "      <td>2015</td>\n",
       "      <td>Volvo</td>\n",
       "      <td>S60</td>\n",
       "      <td>T5</td>\n",
       "      <td>Sedan</td>\n",
       "      <td>automatic</td>\n",
       "      <td>yv1612tb4f1310987</td>\n",
       "      <td>ca</td>\n",
       "      <td>41.0</td>\n",
       "      <td>14282.0</td>\n",
       "      <td>white</td>\n",
       "      <td>black</td>\n",
       "      <td>volvo na rep/world omni</td>\n",
       "      <td>27500.0</td>\n",
       "      <td>27750.0</td>\n",
       "      <td>Thu Jan 29 2015 04:30:00 GMT-0800 (PST)</td>\n",
       "    </tr>\n",
       "    <tr>\n",
       "      <th>4</th>\n",
       "      <td>2014</td>\n",
       "      <td>BMW</td>\n",
       "      <td>6 Series Gran Coupe</td>\n",
       "      <td>650i</td>\n",
       "      <td>Sedan</td>\n",
       "      <td>automatic</td>\n",
       "      <td>wba6b2c57ed129731</td>\n",
       "      <td>ca</td>\n",
       "      <td>43.0</td>\n",
       "      <td>2641.0</td>\n",
       "      <td>gray</td>\n",
       "      <td>black</td>\n",
       "      <td>financial services remarketing (lease)</td>\n",
       "      <td>66000.0</td>\n",
       "      <td>67000.0</td>\n",
       "      <td>Thu Dec 18 2014 12:30:00 GMT-0800 (PST)</td>\n",
       "    </tr>\n",
       "    <tr>\n",
       "      <th>...</th>\n",
       "      <td>...</td>\n",
       "      <td>...</td>\n",
       "      <td>...</td>\n",
       "      <td>...</td>\n",
       "      <td>...</td>\n",
       "      <td>...</td>\n",
       "      <td>...</td>\n",
       "      <td>...</td>\n",
       "      <td>...</td>\n",
       "      <td>...</td>\n",
       "      <td>...</td>\n",
       "      <td>...</td>\n",
       "      <td>...</td>\n",
       "      <td>...</td>\n",
       "      <td>...</td>\n",
       "      <td>...</td>\n",
       "    </tr>\n",
       "    <tr>\n",
       "      <th>558832</th>\n",
       "      <td>2015</td>\n",
       "      <td>Kia</td>\n",
       "      <td>K900</td>\n",
       "      <td>Luxury</td>\n",
       "      <td>Sedan</td>\n",
       "      <td>NaN</td>\n",
       "      <td>knalw4d4xf6019304</td>\n",
       "      <td>in</td>\n",
       "      <td>45.0</td>\n",
       "      <td>18255.0</td>\n",
       "      <td>silver</td>\n",
       "      <td>black</td>\n",
       "      <td>avis corporation</td>\n",
       "      <td>35300.0</td>\n",
       "      <td>33000.0</td>\n",
       "      <td>Thu Jul 09 2015 07:00:00 GMT-0700 (PDT)</td>\n",
       "    </tr>\n",
       "    <tr>\n",
       "      <th>558833</th>\n",
       "      <td>2012</td>\n",
       "      <td>Ram</td>\n",
       "      <td>2500</td>\n",
       "      <td>Power Wagon</td>\n",
       "      <td>Crew Cab</td>\n",
       "      <td>automatic</td>\n",
       "      <td>3c6td5et6cg112407</td>\n",
       "      <td>wa</td>\n",
       "      <td>5.0</td>\n",
       "      <td>54393.0</td>\n",
       "      <td>white</td>\n",
       "      <td>black</td>\n",
       "      <td>i -5 uhlmann rv</td>\n",
       "      <td>30200.0</td>\n",
       "      <td>30800.0</td>\n",
       "      <td>Wed Jul 08 2015 09:30:00 GMT-0700 (PDT)</td>\n",
       "    </tr>\n",
       "    <tr>\n",
       "      <th>558834</th>\n",
       "      <td>2012</td>\n",
       "      <td>BMW</td>\n",
       "      <td>X5</td>\n",
       "      <td>xDrive35d</td>\n",
       "      <td>SUV</td>\n",
       "      <td>automatic</td>\n",
       "      <td>5uxzw0c58cl668465</td>\n",
       "      <td>ca</td>\n",
       "      <td>48.0</td>\n",
       "      <td>50561.0</td>\n",
       "      <td>black</td>\n",
       "      <td>black</td>\n",
       "      <td>financial services remarketing (lease)</td>\n",
       "      <td>29800.0</td>\n",
       "      <td>34000.0</td>\n",
       "      <td>Wed Jul 08 2015 09:30:00 GMT-0700 (PDT)</td>\n",
       "    </tr>\n",
       "    <tr>\n",
       "      <th>558835</th>\n",
       "      <td>2015</td>\n",
       "      <td>Nissan</td>\n",
       "      <td>Altima</td>\n",
       "      <td>2.5 S</td>\n",
       "      <td>sedan</td>\n",
       "      <td>automatic</td>\n",
       "      <td>1n4al3ap0fc216050</td>\n",
       "      <td>ga</td>\n",
       "      <td>38.0</td>\n",
       "      <td>16658.0</td>\n",
       "      <td>white</td>\n",
       "      <td>black</td>\n",
       "      <td>enterprise vehicle exchange / tra / rental / t...</td>\n",
       "      <td>15100.0</td>\n",
       "      <td>11100.0</td>\n",
       "      <td>Thu Jul 09 2015 06:45:00 GMT-0700 (PDT)</td>\n",
       "    </tr>\n",
       "    <tr>\n",
       "      <th>558836</th>\n",
       "      <td>2014</td>\n",
       "      <td>Ford</td>\n",
       "      <td>F-150</td>\n",
       "      <td>XLT</td>\n",
       "      <td>SuperCrew</td>\n",
       "      <td>automatic</td>\n",
       "      <td>1ftfw1et2eke87277</td>\n",
       "      <td>ca</td>\n",
       "      <td>34.0</td>\n",
       "      <td>15008.0</td>\n",
       "      <td>gray</td>\n",
       "      <td>gray</td>\n",
       "      <td>ford motor credit company llc pd</td>\n",
       "      <td>29600.0</td>\n",
       "      <td>26700.0</td>\n",
       "      <td>Thu May 28 2015 05:30:00 GMT-0700 (PDT)</td>\n",
       "    </tr>\n",
       "  </tbody>\n",
       "</table>\n",
       "<p>558837 rows × 16 columns</p>\n",
       "</div>"
      ],
      "text/plain": [
       "        year    make                model         trim       body  \\\n",
       "0       2015     Kia              Sorento           LX        SUV   \n",
       "1       2015     Kia              Sorento           LX        SUV   \n",
       "2       2014     BMW             3 Series   328i SULEV      Sedan   \n",
       "3       2015   Volvo                  S60           T5      Sedan   \n",
       "4       2014     BMW  6 Series Gran Coupe         650i      Sedan   \n",
       "...      ...     ...                  ...          ...        ...   \n",
       "558832  2015     Kia                 K900       Luxury      Sedan   \n",
       "558833  2012     Ram                 2500  Power Wagon   Crew Cab   \n",
       "558834  2012     BMW                   X5    xDrive35d        SUV   \n",
       "558835  2015  Nissan               Altima        2.5 S      sedan   \n",
       "558836  2014    Ford                F-150          XLT  SuperCrew   \n",
       "\n",
       "       transmission                vin state  condition  odometer   color  \\\n",
       "0         automatic  5xyktca69fg566472    ca        5.0   16639.0   white   \n",
       "1         automatic  5xyktca69fg561319    ca        5.0    9393.0   white   \n",
       "2         automatic  wba3c1c51ek116351    ca       45.0    1331.0    gray   \n",
       "3         automatic  yv1612tb4f1310987    ca       41.0   14282.0   white   \n",
       "4         automatic  wba6b2c57ed129731    ca       43.0    2641.0    gray   \n",
       "...             ...                ...   ...        ...       ...     ...   \n",
       "558832          NaN  knalw4d4xf6019304    in       45.0   18255.0  silver   \n",
       "558833    automatic  3c6td5et6cg112407    wa        5.0   54393.0   white   \n",
       "558834    automatic  5uxzw0c58cl668465    ca       48.0   50561.0   black   \n",
       "558835    automatic  1n4al3ap0fc216050    ga       38.0   16658.0   white   \n",
       "558836    automatic  1ftfw1et2eke87277    ca       34.0   15008.0    gray   \n",
       "\n",
       "       interior                                             seller      mmr  \\\n",
       "0         black                            kia motors america  inc  20500.0   \n",
       "1         beige                            kia motors america  inc  20800.0   \n",
       "2         black             financial services remarketing (lease)  31900.0   \n",
       "3         black                            volvo na rep/world omni  27500.0   \n",
       "4         black             financial services remarketing (lease)  66000.0   \n",
       "...         ...                                                ...      ...   \n",
       "558832    black                                   avis corporation  35300.0   \n",
       "558833    black                                    i -5 uhlmann rv  30200.0   \n",
       "558834    black             financial services remarketing (lease)  29800.0   \n",
       "558835    black  enterprise vehicle exchange / tra / rental / t...  15100.0   \n",
       "558836     gray                   ford motor credit company llc pd  29600.0   \n",
       "\n",
       "        sellingprice                                 saledate  \n",
       "0            21500.0  Tue Dec 16 2014 12:30:00 GMT-0800 (PST)  \n",
       "1            21500.0  Tue Dec 16 2014 12:30:00 GMT-0800 (PST)  \n",
       "2            30000.0  Thu Jan 15 2015 04:30:00 GMT-0800 (PST)  \n",
       "3            27750.0  Thu Jan 29 2015 04:30:00 GMT-0800 (PST)  \n",
       "4            67000.0  Thu Dec 18 2014 12:30:00 GMT-0800 (PST)  \n",
       "...              ...                                      ...  \n",
       "558832       33000.0  Thu Jul 09 2015 07:00:00 GMT-0700 (PDT)  \n",
       "558833       30800.0  Wed Jul 08 2015 09:30:00 GMT-0700 (PDT)  \n",
       "558834       34000.0  Wed Jul 08 2015 09:30:00 GMT-0700 (PDT)  \n",
       "558835       11100.0  Thu Jul 09 2015 06:45:00 GMT-0700 (PDT)  \n",
       "558836       26700.0  Thu May 28 2015 05:30:00 GMT-0700 (PDT)  \n",
       "\n",
       "[558837 rows x 16 columns]"
      ]
     },
     "execution_count": 2,
     "metadata": {},
     "output_type": "execute_result"
    }
   ],
   "source": [
    "#Mengimport dataset dari car_prices.csv\n",
    "df = pd.read_csv(\"car_prices.csv\")\n",
    "df"
   ]
  },
  {
   "cell_type": "code",
   "execution_count": 3,
   "metadata": {},
   "outputs": [
    {
     "name": "stdout",
     "output_type": "stream",
     "text": [
      "<class 'pandas.core.frame.DataFrame'>\n",
      "RangeIndex: 558837 entries, 0 to 558836\n",
      "Data columns (total 16 columns):\n",
      " #   Column        Non-Null Count   Dtype  \n",
      "---  ------        --------------   -----  \n",
      " 0   year          558837 non-null  int64  \n",
      " 1   make          548536 non-null  object \n",
      " 2   model         548438 non-null  object \n",
      " 3   trim          548186 non-null  object \n",
      " 4   body          545642 non-null  object \n",
      " 5   transmission  493485 non-null  object \n",
      " 6   vin           558833 non-null  object \n",
      " 7   state         558837 non-null  object \n",
      " 8   condition     547017 non-null  float64\n",
      " 9   odometer      558743 non-null  float64\n",
      " 10  color         558088 non-null  object \n",
      " 11  interior      558088 non-null  object \n",
      " 12  seller        558837 non-null  object \n",
      " 13  mmr           558799 non-null  float64\n",
      " 14  sellingprice  558825 non-null  float64\n",
      " 15  saledate      558825 non-null  object \n",
      "dtypes: float64(4), int64(1), object(11)\n",
      "memory usage: 68.2+ MB\n"
     ]
    }
   ],
   "source": [
    "df.info()"
   ]
  },
  {
   "cell_type": "markdown",
   "metadata": {},
   "source": [
    "# III. Data Cleaning"
   ]
  },
  {
   "cell_type": "markdown",
   "metadata": {},
   "source": [
    "Berdasarkan penjabaran masalah yang sudah diidentifikasi sebelumnya maka dataset yang digunakan akan memuat beberapa kolom data, yaitu:\n",
    "\n",
    "1. Production_Year : Tahun produksi dari sebuah mobil\n",
    "2. Manufacturer : Nama produsen mobil\n",
    "3. Model : Nama model mobil\n",
    "4. Type : Jenis body dari mobil\n",
    "5. Color : Warna mobil\n",
    "6. State : Asal / Wilayah mobil\n",
    "7. Condition : Kondisi mobil\n",
    "8. Odometer : Jarak yang sudah ditempuh mobil (km)\n",
    "9. Seller : perusahaan penjual mobil\n",
    "10. Sale_Date : Tanggal transaksi\n",
    "11. Sale_Price : Harga jual mobil"
   ]
  },
  {
   "cell_type": "code",
   "execution_count": 4,
   "metadata": {},
   "outputs": [
    {
     "data": {
      "text/html": [
       "<div>\n",
       "<style scoped>\n",
       "    .dataframe tbody tr th:only-of-type {\n",
       "        vertical-align: middle;\n",
       "    }\n",
       "\n",
       "    .dataframe tbody tr th {\n",
       "        vertical-align: top;\n",
       "    }\n",
       "\n",
       "    .dataframe thead th {\n",
       "        text-align: right;\n",
       "    }\n",
       "</style>\n",
       "<table border=\"1\" class=\"dataframe\">\n",
       "  <thead>\n",
       "    <tr style=\"text-align: right;\">\n",
       "      <th></th>\n",
       "      <th>year</th>\n",
       "      <th>make</th>\n",
       "      <th>model</th>\n",
       "      <th>body</th>\n",
       "      <th>color</th>\n",
       "      <th>state</th>\n",
       "      <th>condition</th>\n",
       "      <th>odometer</th>\n",
       "      <th>seller</th>\n",
       "      <th>saledate</th>\n",
       "      <th>sellingprice</th>\n",
       "    </tr>\n",
       "  </thead>\n",
       "  <tbody>\n",
       "    <tr>\n",
       "      <th>0</th>\n",
       "      <td>2015</td>\n",
       "      <td>Kia</td>\n",
       "      <td>Sorento</td>\n",
       "      <td>SUV</td>\n",
       "      <td>white</td>\n",
       "      <td>ca</td>\n",
       "      <td>5.0</td>\n",
       "      <td>16639.0</td>\n",
       "      <td>kia motors america  inc</td>\n",
       "      <td>Tue Dec 16 2014 12:30:00 GMT-0800 (PST)</td>\n",
       "      <td>21500.0</td>\n",
       "    </tr>\n",
       "    <tr>\n",
       "      <th>1</th>\n",
       "      <td>2015</td>\n",
       "      <td>Kia</td>\n",
       "      <td>Sorento</td>\n",
       "      <td>SUV</td>\n",
       "      <td>white</td>\n",
       "      <td>ca</td>\n",
       "      <td>5.0</td>\n",
       "      <td>9393.0</td>\n",
       "      <td>kia motors america  inc</td>\n",
       "      <td>Tue Dec 16 2014 12:30:00 GMT-0800 (PST)</td>\n",
       "      <td>21500.0</td>\n",
       "    </tr>\n",
       "    <tr>\n",
       "      <th>2</th>\n",
       "      <td>2014</td>\n",
       "      <td>BMW</td>\n",
       "      <td>3 Series</td>\n",
       "      <td>Sedan</td>\n",
       "      <td>gray</td>\n",
       "      <td>ca</td>\n",
       "      <td>45.0</td>\n",
       "      <td>1331.0</td>\n",
       "      <td>financial services remarketing (lease)</td>\n",
       "      <td>Thu Jan 15 2015 04:30:00 GMT-0800 (PST)</td>\n",
       "      <td>30000.0</td>\n",
       "    </tr>\n",
       "    <tr>\n",
       "      <th>3</th>\n",
       "      <td>2015</td>\n",
       "      <td>Volvo</td>\n",
       "      <td>S60</td>\n",
       "      <td>Sedan</td>\n",
       "      <td>white</td>\n",
       "      <td>ca</td>\n",
       "      <td>41.0</td>\n",
       "      <td>14282.0</td>\n",
       "      <td>volvo na rep/world omni</td>\n",
       "      <td>Thu Jan 29 2015 04:30:00 GMT-0800 (PST)</td>\n",
       "      <td>27750.0</td>\n",
       "    </tr>\n",
       "    <tr>\n",
       "      <th>4</th>\n",
       "      <td>2014</td>\n",
       "      <td>BMW</td>\n",
       "      <td>6 Series Gran Coupe</td>\n",
       "      <td>Sedan</td>\n",
       "      <td>gray</td>\n",
       "      <td>ca</td>\n",
       "      <td>43.0</td>\n",
       "      <td>2641.0</td>\n",
       "      <td>financial services remarketing (lease)</td>\n",
       "      <td>Thu Dec 18 2014 12:30:00 GMT-0800 (PST)</td>\n",
       "      <td>67000.0</td>\n",
       "    </tr>\n",
       "    <tr>\n",
       "      <th>...</th>\n",
       "      <td>...</td>\n",
       "      <td>...</td>\n",
       "      <td>...</td>\n",
       "      <td>...</td>\n",
       "      <td>...</td>\n",
       "      <td>...</td>\n",
       "      <td>...</td>\n",
       "      <td>...</td>\n",
       "      <td>...</td>\n",
       "      <td>...</td>\n",
       "      <td>...</td>\n",
       "    </tr>\n",
       "    <tr>\n",
       "      <th>558832</th>\n",
       "      <td>2015</td>\n",
       "      <td>Kia</td>\n",
       "      <td>K900</td>\n",
       "      <td>Sedan</td>\n",
       "      <td>silver</td>\n",
       "      <td>in</td>\n",
       "      <td>45.0</td>\n",
       "      <td>18255.0</td>\n",
       "      <td>avis corporation</td>\n",
       "      <td>Thu Jul 09 2015 07:00:00 GMT-0700 (PDT)</td>\n",
       "      <td>33000.0</td>\n",
       "    </tr>\n",
       "    <tr>\n",
       "      <th>558833</th>\n",
       "      <td>2012</td>\n",
       "      <td>Ram</td>\n",
       "      <td>2500</td>\n",
       "      <td>Crew Cab</td>\n",
       "      <td>white</td>\n",
       "      <td>wa</td>\n",
       "      <td>5.0</td>\n",
       "      <td>54393.0</td>\n",
       "      <td>i -5 uhlmann rv</td>\n",
       "      <td>Wed Jul 08 2015 09:30:00 GMT-0700 (PDT)</td>\n",
       "      <td>30800.0</td>\n",
       "    </tr>\n",
       "    <tr>\n",
       "      <th>558834</th>\n",
       "      <td>2012</td>\n",
       "      <td>BMW</td>\n",
       "      <td>X5</td>\n",
       "      <td>SUV</td>\n",
       "      <td>black</td>\n",
       "      <td>ca</td>\n",
       "      <td>48.0</td>\n",
       "      <td>50561.0</td>\n",
       "      <td>financial services remarketing (lease)</td>\n",
       "      <td>Wed Jul 08 2015 09:30:00 GMT-0700 (PDT)</td>\n",
       "      <td>34000.0</td>\n",
       "    </tr>\n",
       "    <tr>\n",
       "      <th>558835</th>\n",
       "      <td>2015</td>\n",
       "      <td>Nissan</td>\n",
       "      <td>Altima</td>\n",
       "      <td>sedan</td>\n",
       "      <td>white</td>\n",
       "      <td>ga</td>\n",
       "      <td>38.0</td>\n",
       "      <td>16658.0</td>\n",
       "      <td>enterprise vehicle exchange / tra / rental / t...</td>\n",
       "      <td>Thu Jul 09 2015 06:45:00 GMT-0700 (PDT)</td>\n",
       "      <td>11100.0</td>\n",
       "    </tr>\n",
       "    <tr>\n",
       "      <th>558836</th>\n",
       "      <td>2014</td>\n",
       "      <td>Ford</td>\n",
       "      <td>F-150</td>\n",
       "      <td>SuperCrew</td>\n",
       "      <td>gray</td>\n",
       "      <td>ca</td>\n",
       "      <td>34.0</td>\n",
       "      <td>15008.0</td>\n",
       "      <td>ford motor credit company llc pd</td>\n",
       "      <td>Thu May 28 2015 05:30:00 GMT-0700 (PDT)</td>\n",
       "      <td>26700.0</td>\n",
       "    </tr>\n",
       "  </tbody>\n",
       "</table>\n",
       "<p>558837 rows × 11 columns</p>\n",
       "</div>"
      ],
      "text/plain": [
       "        year    make                model       body   color state  condition  \\\n",
       "0       2015     Kia              Sorento        SUV   white    ca        5.0   \n",
       "1       2015     Kia              Sorento        SUV   white    ca        5.0   \n",
       "2       2014     BMW             3 Series      Sedan    gray    ca       45.0   \n",
       "3       2015   Volvo                  S60      Sedan   white    ca       41.0   \n",
       "4       2014     BMW  6 Series Gran Coupe      Sedan    gray    ca       43.0   \n",
       "...      ...     ...                  ...        ...     ...   ...        ...   \n",
       "558832  2015     Kia                 K900      Sedan  silver    in       45.0   \n",
       "558833  2012     Ram                 2500   Crew Cab   white    wa        5.0   \n",
       "558834  2012     BMW                   X5        SUV   black    ca       48.0   \n",
       "558835  2015  Nissan               Altima      sedan   white    ga       38.0   \n",
       "558836  2014    Ford                F-150  SuperCrew    gray    ca       34.0   \n",
       "\n",
       "        odometer                                             seller  \\\n",
       "0        16639.0                            kia motors america  inc   \n",
       "1         9393.0                            kia motors america  inc   \n",
       "2         1331.0             financial services remarketing (lease)   \n",
       "3        14282.0                            volvo na rep/world omni   \n",
       "4         2641.0             financial services remarketing (lease)   \n",
       "...          ...                                                ...   \n",
       "558832   18255.0                                   avis corporation   \n",
       "558833   54393.0                                    i -5 uhlmann rv   \n",
       "558834   50561.0             financial services remarketing (lease)   \n",
       "558835   16658.0  enterprise vehicle exchange / tra / rental / t...   \n",
       "558836   15008.0                   ford motor credit company llc pd   \n",
       "\n",
       "                                       saledate  sellingprice  \n",
       "0       Tue Dec 16 2014 12:30:00 GMT-0800 (PST)       21500.0  \n",
       "1       Tue Dec 16 2014 12:30:00 GMT-0800 (PST)       21500.0  \n",
       "2       Thu Jan 15 2015 04:30:00 GMT-0800 (PST)       30000.0  \n",
       "3       Thu Jan 29 2015 04:30:00 GMT-0800 (PST)       27750.0  \n",
       "4       Thu Dec 18 2014 12:30:00 GMT-0800 (PST)       67000.0  \n",
       "...                                         ...           ...  \n",
       "558832  Thu Jul 09 2015 07:00:00 GMT-0700 (PDT)       33000.0  \n",
       "558833  Wed Jul 08 2015 09:30:00 GMT-0700 (PDT)       30800.0  \n",
       "558834  Wed Jul 08 2015 09:30:00 GMT-0700 (PDT)       34000.0  \n",
       "558835  Thu Jul 09 2015 06:45:00 GMT-0700 (PDT)       11100.0  \n",
       "558836  Thu May 28 2015 05:30:00 GMT-0700 (PDT)       26700.0  \n",
       "\n",
       "[558837 rows x 11 columns]"
      ]
     },
     "execution_count": 4,
     "metadata": {},
     "output_type": "execute_result"
    }
   ],
   "source": [
    "#Membuat dataframe baru dengan nama car_sales yang berisi kolom yang sudah di tentukan diatas\n",
    "\n",
    "car_sales = df.iloc[:, [0,1,2,4,10, 7, 8, 9, 12, 15,14]]\n",
    "car_sales"
   ]
  },
  {
   "cell_type": "code",
   "execution_count": 5,
   "metadata": {},
   "outputs": [],
   "source": [
    "#Mengganti nama kolom agar sesuai dengan tabel yang sudah ditentukan\n",
    "car_sales.columns = ['production_year', 'manufacturer', 'model', 'type', 'color', 'state', 'condition', 'odometer', 'seller', 'sale_date', 'sale_price']"
   ]
  },
  {
   "cell_type": "markdown",
   "metadata": {},
   "source": [
    "Mengganti tipe kolom sale_date menjadi date format"
   ]
  },
  {
   "cell_type": "code",
   "execution_count": 7,
   "metadata": {},
   "outputs": [
    {
     "name": "stderr",
     "output_type": "stream",
     "text": [
      "C:\\Users\\KAISAR\\AppData\\Local\\Temp\\ipykernel_8952\\1579706760.py:1: SettingWithCopyWarning: \n",
      "A value is trying to be set on a copy of a slice from a DataFrame.\n",
      "Try using .loc[row_indexer,col_indexer] = value instead\n",
      "\n",
      "See the caveats in the documentation: https://pandas.pydata.org/pandas-docs/stable/user_guide/indexing.html#returning-a-view-versus-a-copy\n",
      "  car_sales['sale_date'] = pd.to_datetime(car_sales['sale_date'], errors='coerce', utc=False)\n"
     ]
    }
   ],
   "source": [
    "car_sales['sale_date'] = pd.to_datetime(car_sales['sale_date'], errors='coerce', utc=False)"
   ]
  },
  {
   "cell_type": "code",
   "execution_count": 8,
   "metadata": {},
   "outputs": [],
   "source": [
    "#Menghapus semua data dengan mising value menggunakan dropna\n",
    "car_sales = car_sales.dropna()"
   ]
  },
  {
   "cell_type": "markdown",
   "metadata": {},
   "source": [
    "Menghapus beberapa baris data berdasarkan 'state' atau daerah penjualan. \\\n",
    "Penghapusan ini dikarenakan terlalu banyak kategori state yang ada dalam data namun hanya berisi sedikit value.\\\n",
    "Sehingga data yang digunakan diambil dari 5 state yang memiliki jumlah data terbanyak."
   ]
  },
  {
   "cell_type": "code",
   "execution_count": 9,
   "metadata": {},
   "outputs": [
    {
     "data": {
      "text/plain": [
       "state\n",
       "fl    53889\n",
       "ca    53056\n",
       "pa    34495\n",
       "tx    30263\n",
       "ga    23105\n",
       "Name: count, dtype: int64"
      ]
     },
     "execution_count": 9,
     "metadata": {},
     "output_type": "execute_result"
    }
   ],
   "source": [
    "#Menghitung jumlah penjualan terbanyak berdasarkan state\n",
    "car_sales['state'].value_counts().head()"
   ]
  },
  {
   "cell_type": "code",
   "execution_count": 10,
   "metadata": {},
   "outputs": [
    {
     "name": "stderr",
     "output_type": "stream",
     "text": [
      "C:\\Users\\KAISAR\\AppData\\Local\\Temp\\ipykernel_8952\\3084747460.py:2: SettingWithCopyWarning: \n",
      "A value is trying to be set on a copy of a slice from a DataFrame\n",
      "\n",
      "See the caveats in the documentation: https://pandas.pydata.org/pandas-docs/stable/user_guide/indexing.html#returning-a-view-versus-a-copy\n",
      "  car_sales.drop(car_sales[~car_sales['state'].isin(['fl','ca', 'pa','tx', 'ga'])].index, inplace=True)\n"
     ]
    }
   ],
   "source": [
    "#menggunakan metode drop() untuk menghapus data yang memiliki nilai selain yang diinginkan\n",
    "car_sales.drop(car_sales[~car_sales['state'].isin(['fl','ca', 'pa','tx', 'ga'])].index, inplace=True)\n"
   ]
  },
  {
   "cell_type": "code",
   "execution_count": 11,
   "metadata": {},
   "outputs": [],
   "source": [
    "#Mengganti inisial state dengan nama daerah agar lebih mudah dipahami\n",
    "car_sales.loc[car_sales['state'] =='ca', 'state'] = 'California'\n",
    "car_sales.loc[car_sales['state'] =='fl', 'state'] = 'Florida'\n",
    "car_sales.loc[car_sales['state'] =='pa', 'state'] = 'Pennsylvania'\n",
    "car_sales.loc[car_sales['state'] =='tx', 'state'] = 'Texas'\n",
    "car_sales.loc[car_sales['state'] =='ga', 'state'] = 'Georgia'"
   ]
  },
  {
   "cell_type": "markdown",
   "metadata": {},
   "source": [
    "Menambah kolom condition_cat yang mendefinisikan kondisi mobil berdasarkan kolom condition agar mudah dipahami. \\\n",
    "Kategori kondisi mobil dibagi menjadi 3 kategori dengan menggunakan fungsi qcut"
   ]
  },
  {
   "cell_type": "code",
   "execution_count": 12,
   "metadata": {},
   "outputs": [
    {
     "name": "stdout",
     "output_type": "stream",
     "text": [
      "Batas nilai tiap kategori: [ 1. 27. 38. 49.]\n"
     ]
    },
    {
     "name": "stderr",
     "output_type": "stream",
     "text": [
      "C:\\Users\\KAISAR\\AppData\\Local\\Temp\\ipykernel_8952\\876417725.py:2: SettingWithCopyWarning: \n",
      "A value is trying to be set on a copy of a slice from a DataFrame.\n",
      "Try using .loc[row_indexer,col_indexer] = value instead\n",
      "\n",
      "See the caveats in the documentation: https://pandas.pydata.org/pandas-docs/stable/user_guide/indexing.html#returning-a-view-versus-a-copy\n",
      "  car_sales['condition_cat'], bins = pd.qcut(car_sales['condition'], q=3, labels=['Critical', 'Need Repair', 'Good'], retbins=True)\n"
     ]
    }
   ],
   "source": [
    "# Bagi data menjadi 3 kategori (tertile)\n",
    "car_sales['condition_cat'], bins = pd.qcut(car_sales['condition'], q=3, labels=['Critical', 'Need Repair', 'Good'], retbins=True)\n",
    "\n",
    "print(\"Batas nilai tiap kategori:\", bins)"
   ]
  },
  {
   "cell_type": "markdown",
   "metadata": {},
   "source": [
    "Merapikan index data dan label kolom agar lebih rapi dan presentatif"
   ]
  },
  {
   "cell_type": "code",
   "execution_count": 13,
   "metadata": {},
   "outputs": [],
   "source": [
    "#Re-arrange kolom agar keliatan lebih rapi\n",
    "\n",
    "car_sales = car_sales[['production_year', 'manufacturer', 'model', 'type', 'color', 'state', 'condition','condition_cat', 'odometer', 'seller', 'sale_date', 'sale_price']]\n",
    "car_sales.reset_index(drop=True, inplace=True)"
   ]
  },
  {
   "cell_type": "code",
   "execution_count": 14,
   "metadata": {},
   "outputs": [
    {
     "data": {
      "text/html": [
       "<div>\n",
       "<style scoped>\n",
       "    .dataframe tbody tr th:only-of-type {\n",
       "        vertical-align: middle;\n",
       "    }\n",
       "\n",
       "    .dataframe tbody tr th {\n",
       "        vertical-align: top;\n",
       "    }\n",
       "\n",
       "    .dataframe thead th {\n",
       "        text-align: right;\n",
       "    }\n",
       "</style>\n",
       "<table border=\"1\" class=\"dataframe\">\n",
       "  <thead>\n",
       "    <tr style=\"text-align: right;\">\n",
       "      <th></th>\n",
       "      <th>production_year</th>\n",
       "      <th>manufacturer</th>\n",
       "      <th>model</th>\n",
       "      <th>type</th>\n",
       "      <th>color</th>\n",
       "      <th>state</th>\n",
       "      <th>condition</th>\n",
       "      <th>condition_cat</th>\n",
       "      <th>odometer</th>\n",
       "      <th>seller</th>\n",
       "      <th>sale_date</th>\n",
       "      <th>sale_price</th>\n",
       "    </tr>\n",
       "  </thead>\n",
       "  <tbody>\n",
       "    <tr>\n",
       "      <th>0</th>\n",
       "      <td>2015</td>\n",
       "      <td>Kia</td>\n",
       "      <td>Sorento</td>\n",
       "      <td>SUV</td>\n",
       "      <td>white</td>\n",
       "      <td>California</td>\n",
       "      <td>5.0</td>\n",
       "      <td>Critical</td>\n",
       "      <td>16639.0</td>\n",
       "      <td>kia motors america  inc</td>\n",
       "      <td>2014-12-16 12:30:00+08:00</td>\n",
       "      <td>21500.0</td>\n",
       "    </tr>\n",
       "    <tr>\n",
       "      <th>1</th>\n",
       "      <td>2015</td>\n",
       "      <td>Kia</td>\n",
       "      <td>Sorento</td>\n",
       "      <td>SUV</td>\n",
       "      <td>white</td>\n",
       "      <td>California</td>\n",
       "      <td>5.0</td>\n",
       "      <td>Critical</td>\n",
       "      <td>9393.0</td>\n",
       "      <td>kia motors america  inc</td>\n",
       "      <td>2014-12-16 12:30:00+08:00</td>\n",
       "      <td>21500.0</td>\n",
       "    </tr>\n",
       "    <tr>\n",
       "      <th>2</th>\n",
       "      <td>2014</td>\n",
       "      <td>BMW</td>\n",
       "      <td>3 Series</td>\n",
       "      <td>Sedan</td>\n",
       "      <td>gray</td>\n",
       "      <td>California</td>\n",
       "      <td>45.0</td>\n",
       "      <td>Good</td>\n",
       "      <td>1331.0</td>\n",
       "      <td>financial services remarketing (lease)</td>\n",
       "      <td>2015-01-15 04:30:00+08:00</td>\n",
       "      <td>30000.0</td>\n",
       "    </tr>\n",
       "    <tr>\n",
       "      <th>3</th>\n",
       "      <td>2015</td>\n",
       "      <td>Volvo</td>\n",
       "      <td>S60</td>\n",
       "      <td>Sedan</td>\n",
       "      <td>white</td>\n",
       "      <td>California</td>\n",
       "      <td>41.0</td>\n",
       "      <td>Good</td>\n",
       "      <td>14282.0</td>\n",
       "      <td>volvo na rep/world omni</td>\n",
       "      <td>2015-01-29 04:30:00+08:00</td>\n",
       "      <td>27750.0</td>\n",
       "    </tr>\n",
       "    <tr>\n",
       "      <th>4</th>\n",
       "      <td>2014</td>\n",
       "      <td>BMW</td>\n",
       "      <td>6 Series Gran Coupe</td>\n",
       "      <td>Sedan</td>\n",
       "      <td>gray</td>\n",
       "      <td>California</td>\n",
       "      <td>43.0</td>\n",
       "      <td>Good</td>\n",
       "      <td>2641.0</td>\n",
       "      <td>financial services remarketing (lease)</td>\n",
       "      <td>2014-12-18 12:30:00+08:00</td>\n",
       "      <td>67000.0</td>\n",
       "    </tr>\n",
       "    <tr>\n",
       "      <th>...</th>\n",
       "      <td>...</td>\n",
       "      <td>...</td>\n",
       "      <td>...</td>\n",
       "      <td>...</td>\n",
       "      <td>...</td>\n",
       "      <td>...</td>\n",
       "      <td>...</td>\n",
       "      <td>...</td>\n",
       "      <td>...</td>\n",
       "      <td>...</td>\n",
       "      <td>...</td>\n",
       "      <td>...</td>\n",
       "    </tr>\n",
       "    <tr>\n",
       "      <th>194803</th>\n",
       "      <td>2012</td>\n",
       "      <td>BMW</td>\n",
       "      <td>X6</td>\n",
       "      <td>SUV</td>\n",
       "      <td>silver</td>\n",
       "      <td>Pennsylvania</td>\n",
       "      <td>47.0</td>\n",
       "      <td>Good</td>\n",
       "      <td>47032.0</td>\n",
       "      <td>adcock brothers inc</td>\n",
       "      <td>2015-03-06 01:00:00+08:00</td>\n",
       "      <td>37500.0</td>\n",
       "    </tr>\n",
       "    <tr>\n",
       "      <th>194804</th>\n",
       "      <td>2007</td>\n",
       "      <td>Toyota</td>\n",
       "      <td>Prius</td>\n",
       "      <td>Hatchback</td>\n",
       "      <td>silver</td>\n",
       "      <td>California</td>\n",
       "      <td>38.0</td>\n",
       "      <td>Need Repair</td>\n",
       "      <td>225849.0</td>\n",
       "      <td>wwra</td>\n",
       "      <td>2015-03-06 07:00:00+08:00</td>\n",
       "      <td>4000.0</td>\n",
       "    </tr>\n",
       "    <tr>\n",
       "      <th>194805</th>\n",
       "      <td>2004</td>\n",
       "      <td>Hyundai</td>\n",
       "      <td>Santa Fe</td>\n",
       "      <td>SUV</td>\n",
       "      <td>blue</td>\n",
       "      <td>California</td>\n",
       "      <td>19.0</td>\n",
       "      <td>Critical</td>\n",
       "      <td>161496.0</td>\n",
       "      <td>beach city auto sales &amp; leasing</td>\n",
       "      <td>2015-03-06 07:00:00+08:00</td>\n",
       "      <td>1500.0</td>\n",
       "    </tr>\n",
       "    <tr>\n",
       "      <th>194806</th>\n",
       "      <td>2001</td>\n",
       "      <td>Lincoln</td>\n",
       "      <td>Navigator</td>\n",
       "      <td>SUV</td>\n",
       "      <td>gray</td>\n",
       "      <td>California</td>\n",
       "      <td>24.0</td>\n",
       "      <td>Critical</td>\n",
       "      <td>168356.0</td>\n",
       "      <td>ideal motors</td>\n",
       "      <td>2015-03-06 07:00:00+08:00</td>\n",
       "      <td>1000.0</td>\n",
       "    </tr>\n",
       "    <tr>\n",
       "      <th>194807</th>\n",
       "      <td>2000</td>\n",
       "      <td>Chevrolet</td>\n",
       "      <td>Suburban</td>\n",
       "      <td>SUV</td>\n",
       "      <td>gold</td>\n",
       "      <td>California</td>\n",
       "      <td>27.0</td>\n",
       "      <td>Critical</td>\n",
       "      <td>223945.0</td>\n",
       "      <td>moret motors</td>\n",
       "      <td>2015-03-06 07:00:00+08:00</td>\n",
       "      <td>1500.0</td>\n",
       "    </tr>\n",
       "  </tbody>\n",
       "</table>\n",
       "<p>194808 rows × 12 columns</p>\n",
       "</div>"
      ],
      "text/plain": [
       "        production_year manufacturer                model       type   color  \\\n",
       "0                  2015          Kia              Sorento        SUV   white   \n",
       "1                  2015          Kia              Sorento        SUV   white   \n",
       "2                  2014          BMW             3 Series      Sedan    gray   \n",
       "3                  2015        Volvo                  S60      Sedan   white   \n",
       "4                  2014          BMW  6 Series Gran Coupe      Sedan    gray   \n",
       "...                 ...          ...                  ...        ...     ...   \n",
       "194803             2012          BMW                   X6        SUV  silver   \n",
       "194804             2007       Toyota                Prius  Hatchback  silver   \n",
       "194805             2004      Hyundai             Santa Fe        SUV    blue   \n",
       "194806             2001      Lincoln            Navigator        SUV    gray   \n",
       "194807             2000    Chevrolet             Suburban        SUV    gold   \n",
       "\n",
       "               state  condition condition_cat  odometer  \\\n",
       "0         California        5.0      Critical   16639.0   \n",
       "1         California        5.0      Critical    9393.0   \n",
       "2         California       45.0          Good    1331.0   \n",
       "3         California       41.0          Good   14282.0   \n",
       "4         California       43.0          Good    2641.0   \n",
       "...              ...        ...           ...       ...   \n",
       "194803  Pennsylvania       47.0          Good   47032.0   \n",
       "194804    California       38.0   Need Repair  225849.0   \n",
       "194805    California       19.0      Critical  161496.0   \n",
       "194806    California       24.0      Critical  168356.0   \n",
       "194807    California       27.0      Critical  223945.0   \n",
       "\n",
       "                                        seller                 sale_date  \\\n",
       "0                      kia motors america  inc 2014-12-16 12:30:00+08:00   \n",
       "1                      kia motors america  inc 2014-12-16 12:30:00+08:00   \n",
       "2       financial services remarketing (lease) 2015-01-15 04:30:00+08:00   \n",
       "3                      volvo na rep/world omni 2015-01-29 04:30:00+08:00   \n",
       "4       financial services remarketing (lease) 2014-12-18 12:30:00+08:00   \n",
       "...                                        ...                       ...   \n",
       "194803                     adcock brothers inc 2015-03-06 01:00:00+08:00   \n",
       "194804                                    wwra 2015-03-06 07:00:00+08:00   \n",
       "194805         beach city auto sales & leasing 2015-03-06 07:00:00+08:00   \n",
       "194806                            ideal motors 2015-03-06 07:00:00+08:00   \n",
       "194807                            moret motors 2015-03-06 07:00:00+08:00   \n",
       "\n",
       "        sale_price  \n",
       "0          21500.0  \n",
       "1          21500.0  \n",
       "2          30000.0  \n",
       "3          27750.0  \n",
       "4          67000.0  \n",
       "...            ...  \n",
       "194803     37500.0  \n",
       "194804      4000.0  \n",
       "194805      1500.0  \n",
       "194806      1000.0  \n",
       "194807      1500.0  \n",
       "\n",
       "[194808 rows x 12 columns]"
      ]
     },
     "execution_count": 14,
     "metadata": {},
     "output_type": "execute_result"
    }
   ],
   "source": [
    "car_sales"
   ]
  },
  {
   "cell_type": "code",
   "execution_count": 39,
   "metadata": {},
   "outputs": [],
   "source": [
    "#Menyimpan hasil pengolahan data ke dalam file csv\n",
    "car_sales.to_csv('dataset.csv')"
   ]
  },
  {
   "cell_type": "markdown",
   "metadata": {},
   "source": [
    "# IV. Data Analysis"
   ]
  },
  {
   "cell_type": "markdown",
   "metadata": {},
   "source": [
    "### Analisis Data berdasarkan statistik"
   ]
  },
  {
   "cell_type": "markdown",
   "metadata": {},
   "source": [
    "#### 1. Jenis mobil yang paling laku dipasaran?"
   ]
  },
  {
   "cell_type": "code",
   "execution_count": 15,
   "metadata": {},
   "outputs": [
    {
     "name": "stdout",
     "output_type": "stream",
     "text": [
      "    model  jumlah_terjual\n",
      "0  Altima            7864\n",
      "1   F-150            4330\n",
      "2   Camry            4290\n",
      "3  Accord            3728\n",
      "4  Fusion            3476\n"
     ]
    }
   ],
   "source": [
    "#Menghitung jumlah penjualan berdasarkan model mobil\n",
    "sale_model = car_sales['model'].value_counts().reset_index()\n",
    "sale_model.columns = ['model', 'jumlah_terjual']\n",
    "print(sale_model.head())"
   ]
  },
  {
   "cell_type": "code",
   "execution_count": 16,
   "metadata": {},
   "outputs": [
    {
     "name": "stderr",
     "output_type": "stream",
     "text": [
      "C:\\Users\\KAISAR\\AppData\\Local\\Temp\\ipykernel_3176\\1082026724.py:3: FutureWarning: \n",
      "\n",
      "Passing `palette` without assigning `hue` is deprecated and will be removed in v0.14.0. Assign the `y` variable to `hue` and set `legend=False` for the same effect.\n",
      "\n",
      "  sns.barplot(data=sale_model.head(), x='jumlah_terjual', y='model', palette='bright')\n"
     ]
    },
    {
     "data": {
      "image/png": "[encoded data removed]",
      "text/plain": [
       "<Figure size 400x300 with 1 Axes>"
      ]
     },
     "metadata": {},
     "output_type": "display_data"
    }
   ],
   "source": [
    "#Membuat visualisasi data menggunakan seaborn\n",
    "plt.figure(figsize=(4, 3))\n",
    "sns.barplot(data=sale_model.head(), x='jumlah_terjual', y='model', palette='bright')\n",
    "plt.xlabel('Jumlah penjualan')\n",
    "plt.ylabel('Model')\n",
    "plt.title('Jumlah Penjualan Mobil berdasarkan Merek')\n",
    "plt.tight_layout()\n",
    "plt.show()"
   ]
  },
  {
   "cell_type": "markdown",
   "metadata": {},
   "source": [
    "Berdasarkan data penjualan mobil di atas, merk mobil Altima merupakan mobil dengan penjualan tertinggi dengan total penjualan hampir mencapai 8000 unit. Jumlah ini cukup signifikan jika dibandingkan dengan mobil merk lain yang hanya mencapai total penjualan setengah dari jumlah tersebut. Hal ini menunjukkan bahwa peminat mobil altima jauh lebih besar dari pada merk mobil lain. \n",
    "\n",
    "Pada urutan kedua terdapat model F-150 dengan total penjualan sebanyak 4330 unit, disusul dengan Camry sebanyak 4290 unit."
   ]
  },
  {
   "cell_type": "markdown",
   "metadata": {},
   "source": [
    "#### 2. Produsen mobil yang paling banyak diminati"
   ]
  },
  {
   "cell_type": "code",
   "execution_count": 16,
   "metadata": {},
   "outputs": [
    {
     "name": "stdout",
     "output_type": "stream",
     "text": [
      "    produsen  jumlah_penjualan\n",
      "0       Ford             28539\n",
      "1  Chevrolet             19879\n",
      "2     Nissan             19626\n",
      "3     Toyota             14528\n",
      "4      Honda             11444\n"
     ]
    }
   ],
   "source": [
    "#Menghitung jumlah penjualan mobil berdasarkan produsen mobil\n",
    "produsen = car_sales['manufacturer'].value_counts().reset_index()\n",
    "produsen.columns = ['produsen', 'jumlah_penjualan']\n",
    "print(produsen.head())"
   ]
  },
  {
   "cell_type": "code",
   "execution_count": 18,
   "metadata": {},
   "outputs": [
    {
     "name": "stderr",
     "output_type": "stream",
     "text": [
      "C:\\Users\\KAISAR\\AppData\\Local\\Temp\\ipykernel_3176\\1012375111.py:3: FutureWarning: \n",
      "\n",
      "Passing `palette` without assigning `hue` is deprecated and will be removed in v0.14.0. Assign the `y` variable to `hue` and set `legend=False` for the same effect.\n",
      "\n",
      "  sns.barplot(data=produsen.head(), x='jumlah_penjualan', y='produsen', palette='bright')\n"
     ]
    },
    {
     "data": {
      "image/png": "[encoded data removed]",
      "text/plain": [
       "<Figure size 600x300 with 1 Axes>"
      ]
     },
     "metadata": {},
     "output_type": "display_data"
    }
   ],
   "source": [
    "#Membuat visualisasi data menggunakan seaborn\n",
    "plt.figure(figsize=(6, 3))\n",
    "sns.barplot(data=produsen.head(), x='jumlah_penjualan', y='produsen', palette='bright')\n",
    "plt.xlabel('Jumlah Penjualan')\n",
    "plt.ylabel('Manufacturer')\n",
    "plt.title('Data Produsen Mobil Paling Diminati')\n",
    "plt.tight_layout()\n",
    "plt.show()"
   ]
  },
  {
   "cell_type": "markdown",
   "metadata": {},
   "source": [
    "Berdasarkan data penjulan mobil diatas, jenis mobil yang paling banyak diminati konsumen merupakan mobil yang diproduksi oleh perusahaan Ford.\\\n",
    "Mobil produksi perusahaan Ford terjual sebanyak 28.539 unit, jumlah tersebut sangat banyak jika dibandingkan produsen mobil lain dengan perbedaan jumlah penjualan hampir 10.000 unit. Hal ini menggambarkan bahwa konsumen sangat menyukai jenis mobil produksi perusahaan Ford.\n",
    "\n",
    "Pada urutan kedua produsen yang disukai konsumen adalah chevrolet. Terdapat 19.879 unit mobil produksi Chevrolet yang berhasil terjual.\\\n",
    "Kemudian diurutan ketiga terdapat perusahaan Nissan dengan total penjulan 19.626 unit."
   ]
  },
  {
   "cell_type": "markdown",
   "metadata": {},
   "source": [
    "#### 3. Jumlah transaksi mobil berdasarkan tanggal penjualan"
   ]
  },
  {
   "cell_type": "code",
   "execution_count": 19,
   "metadata": {},
   "outputs": [
    {
     "name": "stdout",
     "output_type": "stream",
     "text": [
      "          date  jumlah_penjualan\n",
      "0   2015-02-04              7268\n",
      "1   2015-02-10              6676\n",
      "2   2015-02-17              6546\n",
      "3   2015-01-27              6453\n",
      "4   2015-02-18              6383\n",
      "..         ...               ...\n",
      "60  2014-01-06                16\n",
      "61  2015-02-07                 6\n",
      "62  2014-01-08                 6\n",
      "63  2014-02-14                 1\n",
      "64  2014-01-13                 1\n",
      "\n",
      "[65 rows x 2 columns]\n"
     ]
    }
   ],
   "source": [
    "#Menghitung penjualan berdasarkan tanggal/date\n",
    "date_count = (car_sales['sale_date'].dt.date).value_counts().reset_index()\n",
    "date_count.columns = ['date', 'jumlah_penjualan']\n",
    "print(date_count)"
   ]
  },
  {
   "cell_type": "code",
   "execution_count": 20,
   "metadata": {},
   "outputs": [
    {
     "name": "stderr",
     "output_type": "stream",
     "text": [
      "C:\\Users\\KAISAR\\AppData\\Local\\Temp\\ipykernel_3176\\1231285460.py:3: UserWarning: Ignoring `palette` because no `hue` variable has been assigned.\n",
      "  sns.lineplot(data=date_count, x='date', y='jumlah_penjualan', palette='bright')\n"
     ]
    },
    {
     "data": {
      "image/png": "[encoded data removed]",
      "text/plain": [
       "<Figure size 800x400 with 1 Axes>"
      ]
     },
     "metadata": {},
     "output_type": "display_data"
    }
   ],
   "source": [
    "#Memvisualisasikan tanggal penjualan menggunakan seaborn\n",
    "plt.figure(figsize=(8, 4))\n",
    "sns.lineplot(data=date_count, x='date', y='jumlah_penjualan', palette='bright')\n",
    "plt.xlabel('Tanggal')\n",
    "plt.ylabel('Jumlah Penjulan')\n",
    "plt.title('Grafik Penjualan Mobil')\n",
    "plt.tight_layout()\n",
    "plt.show()"
   ]
  },
  {
   "cell_type": "markdown",
   "metadata": {},
   "source": [
    "Berdasarkan grafik penjualan mobil diatas dapat dilihat bahwa data tersebut berasal dari kurun waktu Januari 2014 hingga Maret 2015.\\\n",
    "Grafik penjulan mobil berdasarkan tanggal penjualan mengalami fluktuasi yang cukup tajam.\\\n",
    "Selain itu terdapat stagnansi jumlah penjualan sekitar bulan maret 2014 hingga akhir tahun 2014, hal ini kemungkinan terjadi karena tidak ada data yang diambil pada bulan-bulan tersebut.\\\n",
    "Asumsi tersebut dapat dibuktikan dengan menampilkan data antara maret 2014 hingga desember 2014"
   ]
  },
  {
   "cell_type": "code",
   "execution_count": 21,
   "metadata": {},
   "outputs": [
    {
     "name": "stdout",
     "output_type": "stream",
     "text": [
      "<class 'pandas.core.frame.DataFrame'>\n",
      "Index: 0 entries\n",
      "Data columns (total 12 columns):\n",
      " #   Column           Non-Null Count  Dtype                                 \n",
      "---  ------           --------------  -----                                 \n",
      " 0   production_year  0 non-null      int64                                 \n",
      " 1   manufacturer     0 non-null      object                                \n",
      " 2   model            0 non-null      object                                \n",
      " 3   type             0 non-null      object                                \n",
      " 4   color            0 non-null      object                                \n",
      " 5   state            0 non-null      object                                \n",
      " 6   condition        0 non-null      float64                               \n",
      " 7   condition_cat    0 non-null      category                              \n",
      " 8   odometer         0 non-null      float64                               \n",
      " 9   seller           0 non-null      object                                \n",
      " 10  sale_date        0 non-null      datetime64[ns, tzoffset('PST', 28800)]\n",
      " 11  sale_price       0 non-null      float64                               \n",
      "dtypes: category(1), datetime64[ns, tzoffset('PST', 28800)](1), float64(3), int64(1), object(6)\n",
      "memory usage: 132.0+ bytes\n"
     ]
    }
   ],
   "source": [
    "saledate = car_sales[(car_sales['sale_date']>'2014-3-1') & (car_sales['sale_date']<'2014-12-1')]\n",
    "saledate.info()"
   ]
  },
  {
   "cell_type": "markdown",
   "metadata": {},
   "source": [
    "Dapat dilihat bahwa tidak terdapat data penjulan sekitar maret 2014 hingga desember 2014.\\\n",
    "Sehingga untuk melihat statistik penjualan berdasarkan tanggal penjualan, data yang digunakan hanya data pada tahun 2015"
   ]
  },
  {
   "cell_type": "code",
   "execution_count": 22,
   "metadata": {},
   "outputs": [
    {
     "name": "stdout",
     "output_type": "stream",
     "text": [
      "          date  jumlah_penjualan\n",
      "0   2015-02-04              7268\n",
      "1   2015-02-10              6676\n",
      "2   2015-02-17              6546\n",
      "3   2015-01-27              6453\n",
      "4   2015-02-18              6383\n",
      "5   2015-01-15              6202\n",
      "6   2015-03-03              6180\n",
      "7   2015-02-11              6052\n",
      "8   2015-02-12              6028\n",
      "9   2015-01-20              5877\n",
      "10  2015-02-03              5688\n",
      "11  2015-03-04              5438\n",
      "12  2015-02-26              5414\n",
      "13  2015-02-25              5093\n",
      "14  2015-01-21              4985\n",
      "15  2015-01-08              4714\n",
      "16  2015-02-05              4582\n",
      "17  2015-01-14              4523\n",
      "18  2015-01-13              4461\n",
      "19  2015-02-19              4456\n",
      "20  2015-03-05              4337\n",
      "21  2015-01-06              4296\n",
      "22  2015-01-28              4081\n",
      "23  2015-01-22              4048\n",
      "24  2015-01-07              3877\n",
      "25  2015-01-23              3697\n",
      "26  2015-01-29              3561\n",
      "27  2015-02-13              3466\n",
      "28  2015-02-27              3410\n",
      "29  2015-01-16              3391\n",
      "30  2015-02-06              3360\n",
      "31  2015-02-24              3271\n",
      "32  2015-02-20              3198\n",
      "33  2015-03-06              2965\n",
      "34  2015-01-09              2640\n",
      "35  2015-01-30              1710\n",
      "36  2015-01-02              1483\n",
      "37  2015-01-19               520\n",
      "38  2015-02-09               421\n",
      "39  2015-01-26               393\n",
      "40  2015-02-23               387\n",
      "41  2015-01-05               338\n",
      "42  2015-02-02               313\n",
      "43  2015-02-16               305\n",
      "44  2015-03-02               279\n",
      "45  2015-01-12                87\n",
      "46  2015-02-01                86\n",
      "47  2015-02-07                 6\n"
     ]
    }
   ],
   "source": [
    "#Menghitung penjualan berdasarkan tanggal/date\n",
    "year15 = car_sales[car_sales['sale_date'] > '2015-01-01']\n",
    "date_count2 = year15['sale_date'].dt.date.value_counts().reset_index()\n",
    "date_count2.columns = ['date', 'jumlah_penjualan']\n",
    "print(date_count2)"
   ]
  },
  {
   "cell_type": "code",
   "execution_count": 23,
   "metadata": {},
   "outputs": [
    {
     "name": "stderr",
     "output_type": "stream",
     "text": [
      "C:\\Users\\KAISAR\\AppData\\Local\\Temp\\ipykernel_3176\\65926397.py:3: UserWarning: Ignoring `palette` because no `hue` variable has been assigned.\n",
      "  sns.lineplot(data=date_count2, x='date', y='jumlah_penjualan', palette='bright')\n"
     ]
    },
    {
     "data": {
      "image/png": "[encoded data removed]",
      "text/plain": [
       "<Figure size 800x400 with 1 Axes>"
      ]
     },
     "metadata": {},
     "output_type": "display_data"
    }
   ],
   "source": [
    "#Memvisualisasikan tanggal penjualan menggunakan seaborn\n",
    "plt.figure(figsize=(8, 4))\n",
    "sns.lineplot(data=date_count2, x='date', y='jumlah_penjualan', palette='bright')\n",
    "plt.xlabel('Tanggal')\n",
    "plt.ylabel('Jumlah Penjulan')\n",
    "plt.xticks(rotation=-45)\n",
    "plt.title('Grafik Penjualan Mobil')\n",
    "plt.tight_layout()\n",
    "plt.show()"
   ]
  },
  {
   "cell_type": "markdown",
   "metadata": {},
   "source": [
    "Jika dilihat dari jumlah penjualan mobil pada tahun 2015. Grafik penjulan mengalami fluktuasi setiap waktu. Hal ini menunjukkan bahwa tidak ada pertumbuhan atau penurunan penjualan secara konsisten dalam jangka waktu tersebut."
   ]
  },
  {
   "cell_type": "markdown",
   "metadata": {},
   "source": [
    "#### 4. Kota mana yang memiliki jumlah penjualan mobil paling banyak? "
   ]
  },
  {
   "cell_type": "code",
   "execution_count": 24,
   "metadata": {},
   "outputs": [
    {
     "name": "stdout",
     "output_type": "stream",
     "text": [
      "          state  jumlah_penjualan\n",
      "0       Florida             53889\n",
      "1    California             53056\n",
      "2  Pennsylvania             34495\n",
      "3         Texas             30263\n",
      "4       Georgia             23105\n"
     ]
    }
   ],
   "source": [
    "#Menghitung jumlah penjualan berdasarkan state/kota\n",
    "kota = car_sales['state'].value_counts().reset_index()\n",
    "kota.columns = ['state', 'jumlah_penjualan']\n",
    "print(kota)"
   ]
  },
  {
   "cell_type": "code",
   "execution_count": 25,
   "metadata": {},
   "outputs": [
    {
     "name": "stderr",
     "output_type": "stream",
     "text": [
      "C:\\Users\\KAISAR\\AppData\\Local\\Temp\\ipykernel_3176\\3143955166.py:3: FutureWarning: \n",
      "\n",
      "Passing `palette` without assigning `hue` is deprecated and will be removed in v0.14.0. Assign the `y` variable to `hue` and set `legend=False` for the same effect.\n",
      "\n",
      "  sns.barplot(data=kota, x='jumlah_penjualan', y='state', palette='bright')\n"
     ]
    },
    {
     "data": {
      "image/png": "[encoded data removed]",
      "text/plain": [
       "<Figure size 600x300 with 1 Axes>"
      ]
     },
     "metadata": {},
     "output_type": "display_data"
    }
   ],
   "source": [
    "#Menampilkan data penjualan berdasarkan state\n",
    "plt.figure(figsize=(6, 3))\n",
    "sns.barplot(data=kota, x='jumlah_penjualan', y='state', palette='bright')\n",
    "plt.xlabel('Jumlah Penjualan')\n",
    "plt.ylabel('State')\n",
    "plt.title('Data Penjualan Mobil Berdasarkan Kota')\n",
    "plt.tight_layout()\n",
    "plt.show()"
   ]
  },
  {
   "cell_type": "markdown",
   "metadata": {},
   "source": [
    "Dari data penjualan mobil diatas, Florida merupakan kota dengan jumlah penjualan mobil paling banyak yaitu sejumlah 53.889 unit mobil.\\\n",
    "Namun jumlah penjualan di Florida tidak berbeda jauh dengan jumlah penjualan di kota California yang menjadi urutan kedua dengan penjualan 53.056 unit.\n",
    "Kemudian kota Pennsylvania menempati urutan ketiga dengan total penjualan 34.495 unit"
   ]
  },
  {
   "cell_type": "markdown",
   "metadata": {},
   "source": [
    "#### 5. Bagaimana kondisi mobil yang banyak diminati oleh konsumen?"
   ]
  },
  {
   "cell_type": "code",
   "execution_count": 26,
   "metadata": {},
   "outputs": [
    {
     "name": "stdout",
     "output_type": "stream",
     "text": [
      "       kondisi  jumlah_penjualan\n",
      "0     Critical             66070\n",
      "1  Need Repair             64662\n",
      "2         Good             64076\n"
     ]
    }
   ],
   "source": [
    "#Menghitung jumlah penjualan berdasarkan state/kota\n",
    "kondisi = car_sales['condition_cat'].value_counts().reset_index()\n",
    "kondisi.columns = ['kondisi', 'jumlah_penjualan']\n",
    "print(kondisi)"
   ]
  },
  {
   "cell_type": "code",
   "execution_count": 27,
   "metadata": {},
   "outputs": [
    {
     "name": "stderr",
     "output_type": "stream",
     "text": [
      "C:\\Users\\KAISAR\\AppData\\Local\\Temp\\ipykernel_3176\\2412077283.py:3: FutureWarning: \n",
      "\n",
      "Passing `palette` without assigning `hue` is deprecated and will be removed in v0.14.0. Assign the `y` variable to `hue` and set `legend=False` for the same effect.\n",
      "\n",
      "  sns.barplot(data=kondisi, x='jumlah_penjualan', y='kondisi', palette='bright')\n"
     ]
    },
    {
     "data": {
      "image/png": "[encoded data removed]",
      "text/plain": [
       "<Figure size 600x300 with 1 Axes>"
      ]
     },
     "metadata": {},
     "output_type": "display_data"
    }
   ],
   "source": [
    "#Menampilkan data penjualan berdasarkan state\n",
    "plt.figure(figsize=(6, 3))\n",
    "sns.barplot(data=kondisi, x='jumlah_penjualan', y='kondisi', palette='bright')\n",
    "plt.xlabel('Jumlah Penjualan')\n",
    "plt.ylabel('Kondisi Mobil')\n",
    "plt.title('Data Penjualan Mobil Berdasarkan Kota')\n",
    "plt.tight_layout()\n",
    "plt.show()"
   ]
  },
  {
   "cell_type": "markdown",
   "metadata": {},
   "source": [
    "Berdasarkan visualisasi data penjualan mobil diatas, Mobil dengan kondisi critical merupakan mobil dengan jumlah penjualan terbanyak yaitu sejumlah 66.070 unit. Hal tersebut berarti konsumen lebih menyukai mobil dengan kondisi critical untuk nantinya diperbaiki sendiri. \\\n",
    "Mobil dengan kondisi cukup baik namun memerlukan perawatan memiliki total penjualan sejumlah 64.662 unit. \\\n",
    "Dan mobil dengan kondisi bagus merupakan mobil dengan jumlah penjualan paling rendah sejumlah 64.076 unit."
   ]
  },
  {
   "cell_type": "markdown",
   "metadata": {},
   "source": [
    "### Statistik Deskriptif"
   ]
  },
  {
   "cell_type": "markdown",
   "metadata": {},
   "source": [
    "Statistik deskriptif dilakukan untuk menggambarkan kondisi atau karakteristik data secara umum. "
   ]
  },
  {
   "cell_type": "markdown",
   "metadata": {},
   "source": [
    "#### 6. Kondisi harga jual mobil berdasarkan analisis statistik deskriptif"
   ]
  },
  {
   "cell_type": "markdown",
   "metadata": {},
   "source": [
    "Pada tahap ini statitik deskriptif digunakan terhadap variabel harga jual mobil untuk melihat kondisi harga mobil berdasarkan data penjualan."
   ]
  },
  {
   "cell_type": "markdown",
   "metadata": {},
   "source": [
    "##### - Central Tendencies"
   ]
  },
  {
   "cell_type": "code",
   "execution_count": 18,
   "metadata": {},
   "outputs": [
    {
     "name": "stdout",
     "output_type": "stream",
     "text": [
      "Nilai rata-rata penjualan : $13964.49, median : $12500.0, dan modus : $12000.0\n"
     ]
    }
   ],
   "source": [
    "mean = car_sales['sale_price'].mean()\n",
    "median = car_sales['sale_price'].median()\n",
    "mode = car_sales['sale_price'].mode().values[0]\n",
    "\n",
    "print(f\"Nilai rata-rata penjualan : ${mean:.2f}, median : ${median}, dan modus : ${mode}\")"
   ]
  },
  {
   "cell_type": "markdown",
   "metadata": {},
   "source": [
    "+ Hasil perhitungan central tendencies pada harga penjualan mobil didapatkan harga rata-rata penjualan sebesar $13.964,49 dengan nilai tengah $12.500, dan harga mobil yang paling sering keluar (modus) yaitu $12.000.0 \n",
    "+ Jika dilihat dari nilai rata-rata yang lebih tinggi dari pada nilai tengah (median) dapat di asumsikan bahwa terdapat beberapa data yang memiliki nilai yang sangat tinggi sehinnga dapat menaikkan nilai rata-rata.\n",
    "+ Selain itu jika dilihat dari nilai central tendencies yang tidak jauh berbeda dapat diasumsikan juga bahwa data merupakan jenis data terpusat yang sebagian besar nilai penjualan berada disekitar rata-rata"
   ]
  },
  {
   "cell_type": "markdown",
   "metadata": {},
   "source": [
    "##### - Variance"
   ]
  },
  {
   "cell_type": "code",
   "execution_count": 23,
   "metadata": {},
   "outputs": [
    {
     "name": "stdout",
     "output_type": "stream",
     "text": [
      "Nilai varian dari harga penjualan mobil :  94317346.9114893\n",
      "dengan standart deviasi :  9711.711842486333\n"
     ]
    }
   ],
   "source": [
    "var = car_sales['sale_price'].var()\n",
    "std = car_sales['sale_price'].std()\n",
    "print(\"Nilai varian dari harga penjualan mobil : \", var)\n",
    "print(\"dengan standart deviasi : \", std)"
   ]
  },
  {
   "cell_type": "markdown",
   "metadata": {},
   "source": [
    "Nilai varian yang didapatkan berdasarkan harga penjualan yaitu sebesar 94317346.9114893.\\\n",
    "Nilai tersebut merupakan nilai yang sangat besar, hal tersebut menunjukkan bahwa ada perbedaan nilai yang jauh antara nilai penjualan terendah dan nilai penjualan tertinggi.\n",
    "\n",
    "Jika dilihat dari nilai standart deviasi sebesar 9711.72, harga penjualan mobil memiliki variasi nilai harga jual yang sangat beragam karena rentang harga yang cukup tinggi."
   ]
  },
  {
   "cell_type": "markdown",
   "metadata": {},
   "source": [
    "##### - Outlier Analysis"
   ]
  },
  {
   "cell_type": "code",
   "execution_count": 22,
   "metadata": {},
   "outputs": [
    {
     "name": "stdout",
     "output_type": "stream",
     "text": [
      "Nilai skewness dari harga penjualan : 2.1114843465114976 dan kurtosis: 13.096401501574968\n"
     ]
    }
   ],
   "source": [
    "skew = car_sales['sale_price'].skew()\n",
    "kur = car_sales['sale_price'].kurtosis()\n",
    "\n",
    "print(f\"Nilai skewness dari harga penjualan : {skew} dan kurtosis: {kur}\")"
   ]
  },
  {
   "cell_type": "markdown",
   "metadata": {},
   "source": [
    "Nilai skewness yang didapatkan pada dataset yaitu sebesar 2.11.\\\n",
    "Nilai tersebut lebih dari 0 yang berarti bahwa data terpusat di sisi kiri dan condong kekanan, kemudian terdapat beberapa nilai retail yang memiliki nilai jauh lebih besar dari nilai lainnya.\n",
    "\n",
    "Kemudian jika dilihat berdasarkan nilai kurtosis yang dihasilkan yaitu sebesar 13.096.\\\n",
    "Nilai tersebut lebih besar dari 0 dan tergolong sangat tinggi, hal ini membuktikan bahwa dataset memiliki banyak nilai ekstrim yang memiliki nilai jauh lebih besar dari pada nilai lainnya."
   ]
  },
  {
   "cell_type": "markdown",
   "metadata": {},
   "source": [
    "### Statistik Inferensial"
   ]
  },
  {
   "cell_type": "markdown",
   "metadata": {},
   "source": [
    "##### - Normality Test"
   ]
  },
  {
   "cell_type": "markdown",
   "metadata": {},
   "source": [
    "Uji normalitas dilakukan untuk melihat distribusi data, apakah data tersebut terdistribusi normal atau tidak. \\\n",
    "Proses ini perlu dilakukan untuk menentukan metode yang tepat untuk proses uji asumsi yang akan dilakukan selanjutnya.\n",
    "Dikarenakan dataset yang digunakan merupakan data dengan sampel besar lebih dari 100.000 data, maka metode uji normalitas yang digunakan adalah D’Agostino and Pearson’s Test. \\\n",
    "Normality test dilakukan terhadap 3 kolom yang akan dianalisis yaitu kolom condition, odometer, dan sale_price"
   ]
  },
  {
   "cell_type": "code",
   "execution_count": 17,
   "metadata": {},
   "outputs": [
    {
     "name": "stdout",
     "output_type": "stream",
     "text": [
      "p-value kolom condition: 0.0\n",
      "p-value kolom odometer: 0.0\n",
      "p-value kolom sale_price: 0.0\n"
     ]
    }
   ],
   "source": [
    "res1 = stats.normaltest(car_sales['condition'])\n",
    "res2 = stats.normaltest(car_sales['odometer'])\n",
    "res3 = stats.normaltest(car_sales['sale_price'])\n",
    "print(f'p-value kolom condition: {res1.pvalue}')\n",
    "print(f'p-value kolom odometer: {res2.pvalue}')\n",
    "print(f'p-value kolom sale_price: {res3.pvalue}')"
   ]
  },
  {
   "cell_type": "markdown",
   "metadata": {},
   "source": [
    "Dari hasil pengujian D’Agostino and Pearson’s Test nilai p-value yang didapatkan dari ketiga kolom tersebut yaitu 0.0 yang berarti data tersebut merupakan data yang terdistribusi tidak normal, sehingga pengujian asumsi dilakukan menggunakan metode non-parametrix."
   ]
  },
  {
   "cell_type": "markdown",
   "metadata": {},
   "source": [
    "##### 7. Korelasi / Hubungan antara jarak tempuh (odometer) dengan kondisi mobil?"
   ]
  },
  {
   "cell_type": "markdown",
   "metadata": {},
   "source": [
    "Pada tahapan ini dilakukan uji korelasi untuk mencari tahu hubungan antara jarak tempuh (odometer) dengan kondisi mobil (condition).\\\n",
    "Metode yang digunakan untuk melakukan pengujian yaitu metode non-parametrix Spearman test.\\\n",
    "Asumsi yang digunakan untuk pengujian ini yaitu:\n",
    "\n",
    "+ H0 : Tidak terdapat hubungan yang signifikan antara jarak tempuh mobil dengan kondisi mobil\n",
    "+ H1 : Terdapat hubungan yang signifikan antara jarak tempuh mobil dengan kondisi mobil\n",
    "\n"
   ]
  },
  {
   "cell_type": "code",
   "execution_count": 19,
   "metadata": {},
   "outputs": [
    {
     "name": "stdout",
     "output_type": "stream",
     "text": [
      "Spearman correlation (rho): -0.386\n",
      "P-value: 0.000\n"
     ]
    }
   ],
   "source": [
    "# Hitung korelasi Spearman\n",
    "rho, p_value = stats.spearmanr(car_sales['condition'], car_sales['odometer'])\n",
    "\n",
    "# Tampilkan hasil\n",
    "print(f\"Spearman correlation (rho): {rho:.3f}\")\n",
    "print(f\"P-value: {p_value:.3f}\")\n"
   ]
  },
  {
   "cell_type": "markdown",
   "metadata": {},
   "source": [
    "Nilai p-value yang didapatkan dari pengujian spearman adalah 0.0 \\\n",
    "Nilai tersebut menunjukkan nilai yang cukup ekstrim yang berarti bahwa nilai p-value sangatlah kecil.\\\n",
    "Hal tersebut menunjukkan bukti yang sangat kuat bahwa data menolak H0.\n",
    "\n",
    "\n",
    "Sehingga dapat disimpulkan bahwa H0 ditolak dan H1 diterima.\n",
    "> Terdapat hubungan yang signifikan antara jarak tempuh mobil dengan kondisi mobil"
   ]
  },
  {
   "cell_type": "markdown",
   "metadata": {},
   "source": [
    "Nilai corelation (rho) pada data tersebut didapatkan nilai -0.386, nilai ini menunjukkan teredapat korelasi negatif antara dua variabel\n",
    "Artinya: saat nilai satu variabel naik, variabel lainnya cenderung ikut turun, dalam dataset ini hal tersebut berarti misal nilai odometer naik maka nilai condition mobil akan turun."
   ]
  },
  {
   "cell_type": "markdown",
   "metadata": {},
   "source": [
    "##### 8. Korelasi / Hubungan antara kondisi mobil dengan harga penjualan? "
   ]
  },
  {
   "cell_type": "markdown",
   "metadata": {},
   "source": [
    "Tahap ini uji korelasi dilakukan untuk mencari tahu adakah hubungan antara kondisi mobil dengan harga penjualan.\\\n",
    "Metode yang digunakan untuk melakukan pengujian yaitu metode non-parametrix Spearman test.\\\n",
    "Asumsi yang digunakan untuk pengujian ini yaitu:\n",
    "\n",
    "+ H0 : Tidak terdapat hubungan yang signifikan antara jarak tempuh mobil dengan harga penjualan\n",
    "+ H1 : Terdapat hubungan yang signifikan antara jarak tempuh mobil dengan harga penjualan"
   ]
  },
  {
   "cell_type": "code",
   "execution_count": 21,
   "metadata": {},
   "outputs": [
    {
     "name": "stdout",
     "output_type": "stream",
     "text": [
      "Spearman correlation (rho): 0.471\n",
      "P-value: 0.000\n"
     ]
    }
   ],
   "source": [
    "# Hitung korelasi Spearman\n",
    "rho, p_value = stats.spearmanr(car_sales['condition'], car_sales['sale_price'])\n",
    "\n",
    "# Tampilkan hasil\n",
    "print(f\"Spearman correlation (rho): {rho:.3f}\")\n",
    "print(f\"P-value: {p_value:.3f}\")\n"
   ]
  },
  {
   "cell_type": "markdown",
   "metadata": {},
   "source": [
    "Berdasarkan pengujian spearman p-value yang muncul adalah 0.0\\\n",
    "Nilai tersebut kurang dari nilai signifikansi p-value < 0.05 \\\n",
    "\n",
    "\n",
    "Sehingga dapat disimpulkan bahwa H0 ditolak dan H1 diterima.\n",
    "> Terdapat hubungan yang signifikan antara kondisi mobil dengan harga penjualan"
   ]
  },
  {
   "cell_type": "markdown",
   "metadata": {},
   "source": [
    "Nilai corelation (rho) pada data tersebut didapatkan nilai 0.471, nilai ini menunjukkan teredapat korelasi positif antara dua variabel\n",
    "Artinya: saat nilai satu variabel naik, variabel lainnya juga cenderung ikut naik, dalam dataset ini hal tersebut berarti misal nilai kondisi mobil naik atau bagus maka nilai jual akan menjadi lebih tinggi"
   ]
  },
  {
   "cell_type": "markdown",
   "metadata": {},
   "source": [
    "# V. Conclusion"
   ]
  },
  {
   "cell_type": "markdown",
   "metadata": {},
   "source": [
    "Kesimpulan berisi penjelasan mengenai seluruh tahapan analisis yang telah dilalui dan juga jawaban dari problem statement. "
   ]
  },
  {
   "cell_type": "markdown",
   "metadata": {},
   "source": [
    "Terdapat beberapa kesimpulan yang dapat diambil dari penelitian ini antara lain:\n",
    "\n",
    "1. Berdasarkan hasil analisis jumlah penjualan mobil terhadap model mobil, dapat disimpulkan Altima merupakan mobil yang paling banyak diminati, selain mobil tersebut mobil F-150 dan Camry juga sangat diminati di pasaran.\n",
    "\n",
    "2. Perusahaan Mobil Ford merupakan perusahaan mobil yang memiliki jumlah unit terjual paling banyak. Perusahaan ini telah menjual lebih dari 28.000 unit mobil, jumlah tersebut dua kali lebih banyak dari pada jumlah penjualan di beberapa perusahaan lainnya.\n",
    "\n",
    "3. Berdasarkan hasil grafik penjualan mobil yang diambil pada tahun 2014-2015, tidak terdapat perbedaan penjualan mobil di bulan-bulan tertentu, data penjualan mobil bahkan memiliki fluktuasi data yang tinggi, hal tersebut menandakan bahwa terjadi kenaikan atau penurunan jumlah penjualan setiap saat.\n",
    "\n",
    "4. Kota Florida merupakan kota dengan jumlah penjualan mobil paling banyak saat ini, namun jumlah tersebut tidak terpaut jauh dengan jumlah penjualan di kota California. Kedua kota tersebut bisa dibilang hampir sejajar dalam hal jumlah penjualan dan merupakan kota dengan transaksi mobil terbanyak.\n",
    "\n",
    "5. Berdasarkan hasil visualisasi data terhadap kondisi mobil, mobil yang paling banyak diminati oleh konsumen adalah mobil dengan kondisi critical dengan jumlah unit terjual sebanyak 66.070 unit. Hal ini dapat diasumsikan bahwa konsumen lebih tertarik dengan mobil dengan kondisi buruk agar mendapatkan harga yang relatif rendah.\n",
    "\n",
    "6. Berdasarkan hasil analisis statistik deskriptif mengenai harga penjualan mobil. Harga jual mobil bisa dibilang sangat beragam. Terdapat beberapa mobil yang memiliki nilai jual rendah namun ada juga mobil yang sangat mahal. Untuk nilai rata-rata penjulan mobil berada di angka $13.964\n",
    "\n",
    "7. Jarak tempuh yang telah dilalui mobil (odometer) sangat berpengaruh terhadap kondisi mobil, sehingga sebelum melakukan pembelian lebih baik konsumen mengecek odometer untuk sebelum melihat kondisi mobil secara keseluruhan.\n",
    "\n",
    "8. Kondisi mobil juga sangat berpengaruh terhadap distribusi penjualan. Dalam dataset penjualan yang digunakan data mobil yang ada memiliki berbagai kondisi mulai dari kondisi baik hingga critical, sehingga hal tersebut turut mempengaruhi harga jual mobil yang sangat variatif."
   ]
  },
  {
   "cell_type": "markdown",
   "metadata": {},
   "source": [
    "Berdasarkan seluruh hasil proses analasis yang ada dapat disimpulkan bahwa penjualan mobil saat ini terpantau cukup baik. Untuk meningkatkan jumlah penjualan, perusahaan sebaiknya memperbanyak stok mobil altima produksi dari perusahaan nissan dan F-150 produk dari perusahaan Ford, karena mobil tersebut merupakan mobil yang paling banyak peminatnya dipasaran. Selain itu berdasarkan data penjualan konsumen lebih tertarik untuk membeli mobil dengan kondisi rusak agar mendapatkan harga lebih murah, hal tersebut dapat memunculkan potensi bisnis baru yaitu dengan cara memberikan diskon perbaikan atau pembelian sparepart. Perusahaan juga bisa menawarkan loyalty member agar konsumen dapat mendapatkan biaya perbaikan lebih murah."
   ]
  }
 ],
 "metadata": {
  "kernelspec": {
   "display_name": "base",
   "language": "python",
   "name": "python3"
  },
  "language_info": {
   "codemirror_mode": {
    "name": "ipython",
    "version": 3
   },
   "file_extension": ".py",
   "mimetype": "text/x-python",
   "name": "python",
   "nbconvert_exporter": "python",
   "pygments_lexer": "ipython3",
   "version": "3.12.7"
  }
 },
 "nbformat": 4,
 "nbformat_minor": 2
}
